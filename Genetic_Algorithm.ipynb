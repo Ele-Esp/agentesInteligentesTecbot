{
  "cells": [
    {
      "cell_type": "markdown",
      "metadata": {
        "id": "uxxpR9odaTZC"
      },
      "source": [
        "lgoritmo genético\n",
        "\n",
        "El problema se llama OneMax y evalúa una cadena binaria en función del número de 1s en la cadena. Por ejemplo, una cadena de bits con una longitud de 20 bits tendrá una puntuación de 20 para una cadena de solo 1.\n",
        "\n",
        "Dado que hemos implementado el algoritmo genético para minimizar la función objetivo, podemos agregar un signo negativo a esta evaluación para que los valores positivos grandes se conviertan en valores negativos grandes.\n",
        "\n",
        "La siguiente función onemax() implementa esto y toma una cadena de bits de valores enteros como entrada y devuelve la suma negativa de los valores.\n",
        "\n",
        "La búsqueda se ejecutará durante 100 iteraciones y usaremos 20 bits en nuestras soluciones candidatas, lo que significa que la aptitud óptima será -20,0.\n",
        "\n",
        "El tamaño de la población será de 100 y utilizaremos una tasa de cruce del 90 por ciento y una tasa de mutación del 5 por ciento."
      ]
    },
    {
      "cell_type": "code",
      "execution_count": 1,
      "metadata": {
        "id": "QoVhpPv_abjf"
      },
      "outputs": [],
      "source": [
        "import time"
      ]
    },
    {
      "cell_type": "code",
      "execution_count": null,
      "metadata": {
        "id": "MuHYayaOaKGs"
      },
      "outputs": [],
      "source": [
        "#algoritmo genético de busqueda para funcion de optimizacion\n",
        "\n",
        "start_time = time.time()\n",
        "from numpy.random import randint\n",
        "from numpy.random import rand\n",
        "\n",
        "# funcion objetivo\n",
        "def onemax(x):\n",
        "\treturn -sum(x)\n",
        "\n",
        "# seleccion de ganadores (individuos mas aptos)\n",
        "def selection(pop, scores, k=3):\n",
        "\t# seleccion aleatora\n",
        "\tselection_ix = randint(len(pop))\n",
        "\tfor ix in randint(0, len(pop), k-1):\n",
        "\t\t# ver si el candidato es el mejor \n",
        "\t\tif scores[ix] < scores[selection_ix]:\n",
        "\t\t\tselection_ix = ix\n",
        "\treturn pop[selection_ix]\n",
        "\n",
        "# Cruza de individuos padres para generar un hijo\n",
        "def crossover(p1, p2, r_cross):\n",
        "\t# Los hijos son copias de los padres, por definicion\n",
        "\tc1, c2 = p1.copy(), p2.copy()\n",
        "\t# Revisar la recombinacion\n",
        "\tif rand() < r_cross:\n",
        "\t\t# seleccionar punto de cruza que no sea el final de la string\n",
        "\t\tpt = randint(1, len(p1)-2)\n",
        "\t\t# realizar cruza\n",
        "\t\tc1 = p1[:pt] + p2[pt:]\n",
        "\t\tc2 = p2[:pt] + p1[pt:]\n",
        "\treturn [c1, c2]\n",
        "\n",
        "# operador de mutacion\n",
        "def mutation(bitstring, r_mut):\n",
        "\tfor i in range(len(bitstring)):\n",
        "\t\t# revisar la mutacion\n",
        "\t\tif rand() < r_mut:\n",
        "\t\t\t# voltear el bit\n",
        "\t\t\tbitstring[i] = 1 - bitstring[i]\n",
        "\n",
        "# genetic algorithm\n",
        "def genetic_algorithm(objective, n_bits, n_iter, n_pop, r_cross, r_mut):\n",
        "\t# poblacion inicial de un strin aleatorio\n",
        "\tpop = [randint(0, 2, n_bits).tolist() for _ in range(n_pop)]\n",
        "\t# conservar la mejor solucion\n",
        "\tbest, best_eval = 0, objective(pop[0])\n",
        "\t# enumerar generaciones\n",
        "\tfor gen in range(n_iter):\n",
        "\t\t# evaluar todos los candidatos en la poblacion\n",
        "\t\tscores = [objective(c) for c in pop]\n",
        "\t\t# revisar si hay una nueva mejor solucion\n",
        "\t\tfor i in range(n_pop):\n",
        "\t\t\tif scores[i] < best_eval:\n",
        "\t\t\t\tbest, best_eval = pop[i], scores[i]\n",
        "\t\t\t\tprint(\">%d, mejor elemento nuevo f(%s) = %.3f\" % (gen,  pop[i], scores[i]))\n",
        "\t\t# seleccionar padres\n",
        "\t\tselected = [selection(pop, scores) for _ in range(n_pop)]\n",
        "\t\t# crear siguiente generacion\n",
        "\t\tchildren = list()\n",
        "\t\tfor i in range(0, n_pop, 2):\n",
        "\t\t\t# seleccionar padres en forma de par\n",
        "\t\t\tp1, p2 = selected[i], selected[i+1]\n",
        "\t\t\t# cruza y mutacion\n",
        "\t\t\tfor c in crossover(p1, p2, r_cross):\n",
        "\t\t\t\t# mutacion\n",
        "\t\t\t\tmutation(c, r_mut)\n",
        "\t\t\t\t# guardar para siguiente generacion\n",
        "\t\t\t\tchildren.append(c)\n",
        "\t\t# reemplazar poblacion\n",
        "\t\tpop = children\n",
        "\treturn [best, best_eval]\n",
        "\n",
        "# definir total de iteraciones\n",
        "n_iter = 100\n",
        "# bits\n",
        "n_bits = 20\n",
        "# define tamaño de poblacion\n",
        "n_pop = 100\n",
        "# tasa de cruza\n",
        "r_cross = 0.9\n",
        "# tasa de mutacion\n",
        "r_mut = 1. / float(n_bits)\n",
        "#busqueda del algoritmo \n",
        "best, score = genetic_algorithm(onemax, n_bits, n_iter, n_pop, r_cross, r_mut)\n",
        "print('Terminado!')\n",
        "print('f(%s) = %f' % (best, score))\n",
        "\n",
        "print(\"---Tiempo de ejecución: %s segundos ---\" % (time.time() - start_time))"
      ]
    }
  ],
  "metadata": {
    "colab": {
      "provenance": []
    },
    "kernelspec": {
      "display_name": "Python 3",
      "language": "python",
      "name": "python3"
    },
    "language_info": {
      "codemirror_mode": {
        "name": "ipython",
        "version": 3
      },
      "file_extension": ".py",
      "mimetype": "text/x-python",
      "name": "python",
      "nbconvert_exporter": "python",
      "pygments_lexer": "ipython3",
      "version": "3.10.7"
    },
    "vscode": {
      "interpreter": {
        "hash": "e3de23228302ecfb18a9d09884795cc0bbb742150bb9c22030ec19ab1267c72e"
      }
    }
  },
  "nbformat": 4,
  "nbformat_minor": 0
}
